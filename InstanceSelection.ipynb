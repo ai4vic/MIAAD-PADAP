{
  "nbformat": 4,
  "nbformat_minor": 0,
  "metadata": {
    "colab": {
      "provenance": [],
      "authorship_tag": "ABX9TyNVX8gQvkgL1y2WcbGwxrZE",
      "include_colab_link": true
    },
    "kernelspec": {
      "name": "python3",
      "display_name": "Python 3"
    },
    "language_info": {
      "name": "python"
    }
  },
  "cells": [
    {
      "cell_type": "markdown",
      "metadata": {
        "id": "view-in-github",
        "colab_type": "text"
      },
      "source": [
        "<a href=\"https://colab.research.google.com/github/ai4vic/MIAAD-PADAP/blob/main/InstanceSelection.ipynb\" target=\"_parent\"><img src=\"https://colab.research.google.com/assets/colab-badge.svg\" alt=\"Open In Colab\"/></a>"
      ]
    },
    {
      "cell_type": "code",
      "source": [
        "from genericpath import isfile"
      ],
      "metadata": {
        "id": "Cmlcc_G80chy"
      },
      "execution_count": 24,
      "outputs": []
    },
    {
      "cell_type": "code",
      "execution_count": 31,
      "metadata": {
        "id": "ZpfnpgeD0JIi"
      },
      "outputs": [],
      "source": [
        "import os\n",
        "if not os.path.exists('instanceselection'):\n",
        "    !git clone https://github.com/waashk/instanceselection.git"
      ]
    },
    {
      "cell_type": "code",
      "source": [
        "# %%\n",
        "import sys\n",
        "# Add the root of the cloned repository to sys.path\n",
        "sys.path.append('./instanceselection/')"
      ],
      "metadata": {
        "id": "7r11wfjn07pY"
      },
      "execution_count": 97,
      "outputs": []
    },
    {
      "cell_type": "code",
      "source": [
        "from instanceselection.src.main.python.iSel import cnn, enn, icf, lssm, lsbo, drop3, ldis, cdis, xldis, psdsp, ib3, cis, egdis\n",
        "from src.main.python.utils.general import get_data\n",
        "from sklearn.neighbors import KNeighborsClassifier\n",
        "from sklearn.metrics import accuracy_score"
      ],
      "metadata": {
        "id": "GLKk87Gl4fkL"
      },
      "execution_count": 98,
      "outputs": []
    },
    {
      "cell_type": "code",
      "source": [
        "from instanceselection.src.main.python.iSel import cnn, enn, icf\n"
      ],
      "metadata": {
        "id": "lc--qn_J08r-"
      },
      "execution_count": 99,
      "outputs": []
    },
    {
      "cell_type": "code",
      "source": [
        "def get_selector(method: str):\n",
        "\n",
        "    if method == 'cnn':     return cnn.CNN()\n",
        "    if method == 'enn':     return enn.ENN()\n",
        "    if method == 'icf':     return enn.ICF()\n",
        "    if method == 'lssm':    return lssm.LSSm()\n",
        "    if method == 'ldis':    return ldis.LDIS()\n",
        "    if method == 'cdis':    return cdis.CDIS()\n",
        "    if method == 'xldis':   return xldis.XLDIS()\n",
        "    if method == 'psdsp':   return psdsp.PSDSP()\n",
        "    if method == 'ib3':     return ib3.IB3()\n",
        "    if method == 'egdis':   return egdis.EGDIS()\n",
        "    if method == 'cis':     return cis.CIS(task=\"atc\")\n",
        "\n",
        "    return None"
      ],
      "metadata": {
        "id": "5gkFHn4cBAy2"
      },
      "execution_count": 88,
      "outputs": []
    },
    {
      "cell_type": "code",
      "source": [
        "inputdir = \"instanceselection/resources/datasets/aisopos_ntua_2L/tfidf/\"\n",
        "\n",
        "X_train, y_train, X_test, y_test, _ = get_data(inputdir, f=0)"
      ],
      "metadata": {
        "id": "Q_hBixsJAzr8"
      },
      "execution_count": 100,
      "outputs": []
    },
    {
      "cell_type": "code",
      "source": [],
      "metadata": {
        "id": "UyOLYkghBYdv"
      },
      "execution_count": null,
      "outputs": []
    },
    {
      "cell_type": "code",
      "source": [
        "selector = get_selector(method=\"enn\")\n",
        "selector.fit(X_train, y_train)\n",
        "idx = selector.sample_indices_\n",
        "X_train_selected, y_train_selected =  X_train[idx], y_train[idx]"
      ],
      "metadata": {
        "id": "8dZfXboIA88d"
      },
      "execution_count": 91,
      "outputs": []
    },
    {
      "cell_type": "code",
      "source": [
        "clf = KNeighborsClassifier(n_neighbors=3)\n",
        "clf.fit(X_train, y_train)\n",
        "\n",
        "y_pred = clf.predict(X_test)\n",
        "acc = accuracy_score(y_test, y_pred)\n",
        "\n",
        "print(f\"NoSel: {acc}\")\n",
        "\n",
        "clf = KNeighborsClassifier(n_neighbors=1)\n",
        "clf.fit(X_train_selected, y_train_selected)\n",
        "\n",
        "y_pred = clf.predict(X_test)\n",
        "acc = accuracy_score(y_test, y_pred)\n",
        "\n",
        "print(f\"CNN: {acc}\")"
      ],
      "metadata": {
        "colab": {
          "base_uri": "https://localhost:8080/"
        },
        "id": "OwFAP9sWBHSU",
        "outputId": "f17650d2-cc45-4161-9b81-939c1279c3c8"
      },
      "execution_count": 96,
      "outputs": [
        {
          "output_type": "stream",
          "name": "stdout",
          "text": [
            "NoSel: 0.6785714285714286\n",
            "CNN: 0.7142857142857143\n"
          ]
        }
      ]
    }
  ]
}